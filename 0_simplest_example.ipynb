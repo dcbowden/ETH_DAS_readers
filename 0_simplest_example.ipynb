{
 "cells": [
  {
   "cell_type": "code",
   "execution_count": 2,
   "metadata": {},
   "outputs": [],
   "source": [
    "import numpy as np\n",
    "\n",
    "#-- To import a function on a relative path:\n",
    "import sys\n",
    "sys.path.append(\"./\")\n",
    "from pydas_readers.readers import load_das_h5"
   ]
  },
  {
   "cell_type": "code",
   "execution_count": 3,
   "metadata": {},
   "outputs": [
    {
     "name": "stdout",
     "output_type": "stream",
     "text": [
      " \n",
      "--- Data: ---\n",
      "\"data\" array: [6000 x 1088]\n",
      "              (npts x nchan)\n",
      "--- Headers: ---\n",
      "Sample rate:     200\n",
      "Channel spacing: 8.0\n",
      "Total Length:    8704\n",
      "Data units:      (nm/m)/s * Hz/m\n",
      "File start time: 2023.02.06 01:17:29.454000\n",
      "File end time:   2023.02.06 01:17:59.449000\n",
      "etc...\n",
      "--- Axis: ---\n",
      "\"dd\" array of distances:     [(1088,)] (distance of each channel, in meters)\n",
      "\"tt\" array of timesamples:   [(6000,)] (relative to 0 seconds)\n",
      "\"date_times\" array of times: [(6000,)] (absolute UTC times)\n"
     ]
    }
   ],
   "source": [
    "#-- load_file(filename)\n",
    "data, headers, axis = load_das_h5.load_file('./example_data_Istanbul/20230203_epoch2_8km/20230206/istanbul_UTC_20230206_011729.454.h5')\n",
    "\n",
    "#-- By default, flag \"axis=True\" means that vectors of distances and times will be created. This could be turned off for faster processing.\n",
    "#-- By default, flag \"convert=False\" means the data are directly optical intensity returned by the iDAS. Setting \"convert=True\" will\n",
    "#--  change units to that of strain-rate.\n",
    "\n",
    "#-- Let's see a bit what's in these objects:\n",
    "t0 = headers['t0']\n",
    "t1 = headers['t1']\n",
    "lx = headers['lx']\n",
    "print(\" \")\n",
    "print(\"--- Data: ---\")\n",
    "print(\"\\\"data\\\" array: [{0} x {1}]\".format(np.shape(data)[0], np.shape(data)[1]))\n",
    "print(\"              (npts x nchan)\")\n",
    "print(\"--- Headers: ---\")\n",
    "print(\"Sample rate:     {0}\".format(headers['fs']))\n",
    "print(\"Channel spacing: {0}\".format(headers['dx']))\n",
    "print(\"Total Length:    {0}\".format(headers['lx']))\n",
    "print(\"Data units:      {0}\".format(headers['unit']))\n",
    "print(\"File start time: {0}\".format(headers['t0'].strftime('%Y.%m.%d %H:%M:%S.%f')))\n",
    "print(\"File end time:   {0}\".format(headers['t1'].strftime('%Y.%m.%d %H:%M:%S.%f')))\n",
    "print(\"etc...\")\n",
    "print(\"--- Axis: ---\")\n",
    "print(\"\\\"dd\\\" array of distances:     [{0}] (distance of each channel, in meters)\".format(np.shape(axis['dd'])))\n",
    "print(\"\\\"tt\\\" array of timesamples:   [{0}] (relative to 0 seconds)\".format(np.shape(axis['tt'])))\n",
    "print(\"\\\"date_times\\\" array of times: [{0}] (absolute UTC times)\".format(np.shape(axis['date_times'])))"
   ]
  },
  {
   "cell_type": "code",
   "execution_count": 5,
   "metadata": {},
   "outputs": [],
   "source": [
    "#-- The key bit is the following:\n",
    "import h5py\n",
    "file = './example_data_Istanbul/20230203_epoch2_8km/20230206/istanbul_UTC_20230206_011729.454.h5'\n",
    "with h5py.File(file, \"r\") as f:\n",
    "    data = f[\"Acquisition/Raw[0]/RawData\"][:]\n",
    "\n",
    "#-- All these readers are just fancy ways to handle the metadata / headers, \n",
    "#--  and give some basic tools for processing, plotting, etc.\n",
    "\n",
    "#-- ... but one could just load raw blocks of data into numpy files manually"
   ]
  },
  {
   "cell_type": "markdown",
   "metadata": {},
   "source": [
    "### See the next notebook for a function that lets one specify specific times or channels, rather than simply loading an entire file."
   ]
  }
 ],
 "metadata": {
  "kernelspec": {
   "display_name": "Python 3",
   "language": "python",
   "name": "python3"
  },
  "language_info": {
   "codemirror_mode": {
    "name": "ipython",
    "version": 3
   },
   "file_extension": ".py",
   "mimetype": "text/x-python",
   "name": "python",
   "nbconvert_exporter": "python",
   "pygments_lexer": "ipython3",
   "version": "3.10.4"
  },
  "orig_nbformat": 4,
  "vscode": {
   "interpreter": {
    "hash": "31f2aee4e71d21fbe5cf8b01ff0e069b9275f58929596ceb00d14d90e3e16cd6"
   }
  }
 },
 "nbformat": 4,
 "nbformat_minor": 2
}
