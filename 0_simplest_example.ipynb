{
 "cells": [
  {
   "cell_type": "code",
   "execution_count": 1,
   "metadata": {},
   "outputs": [],
   "source": [
    "import numpy as np\n",
    "\n",
    "#-- To import a function on a relative path:\n",
    "import sys\n",
    "sys.path.append(\"./\")\n",
    "from pydas_readers.readers import load_das_h5"
   ]
  },
  {
   "cell_type": "code",
   "execution_count": 2,
   "metadata": {},
   "outputs": [
    {
     "name": "stdout",
     "output_type": "stream",
     "text": [
      " \n",
      "--- Data: ---\n",
      "\"data\" array: [1500 x 12416]\n",
      "              (npts x nchan)\n",
      "--- Headers: ---\n",
      "Sample rate:     50\n",
      "Channel spacing: 2\n",
      "Total Length:    24832\n",
      "Data units:      (nm/m)/s * Hz/m\n",
      "File start time: 2021.10.12 09:24:08.401083\n",
      "File end time:   2021.10.12 09:24:38.398583\n",
      "etc...\n",
      "--- Axis: ---\n",
      "\"dd\" array of distances:     [(12416,)] (distance of each channel, in meters)\n",
      "\"tt\" array of timesamples:   [(1500,)] (relative to 0 seconds)\n",
      "\"date_times\" array of times: [(1500,)] (absolute UTC times)\n"
     ]
    }
   ],
   "source": [
    "#-- load_file(filename)\n",
    "data, headers, axis = load_das_h5.load_file('./example_data_Athens/data_raw_epoch2/2021_10_12/athens_50Hz_20211012_092408.401083.h5')\n",
    "\n",
    "#-- By default, flag \"axis=True\" means that vectors of distances and times will be created. This could be turned off for faster processing.\n",
    "#-- By default, flag \"convert=False\" means the data are directly optical intensity returned by the iDAS. Setting \"convert=True\" will\n",
    "#--  change units to that of strain-rate.\n",
    "\n",
    "#-- Let's see a bit what's in these objects:\n",
    "t0 = headers['t0']\n",
    "t1 = headers['t1']\n",
    "lx = headers['lx']\n",
    "print(\" \")\n",
    "print(\"--- Data: ---\")\n",
    "print(\"\\\"data\\\" array: [{0} x {1}]\".format(np.shape(data)[0], np.shape(data)[1]))\n",
    "print(\"              (npts x nchan)\")\n",
    "print(\"--- Headers: ---\")\n",
    "print(\"Sample rate:     {0}\".format(headers['fs']))\n",
    "print(\"Channel spacing: {0}\".format(headers['dx']))\n",
    "print(\"Total Length:    {0}\".format(headers['lx']))\n",
    "print(\"Data units:      {0}\".format(headers['unit']))\n",
    "print(\"File start time: {0}\".format(headers['t0'].strftime('%Y.%m.%d %H:%M:%S.%f')))\n",
    "print(\"File end time:   {0}\".format(headers['t1'].strftime('%Y.%m.%d %H:%M:%S.%f')))\n",
    "print(\"etc...\")\n",
    "print(\"--- Axis: ---\")\n",
    "print(\"\\\"dd\\\" array of distances:     [{0}] (distance of each channel, in meters)\".format(np.shape(axis['dd'])))\n",
    "print(\"\\\"tt\\\" array of timesamples:   [{0}] (relative to 0 seconds)\".format(np.shape(axis['tt'])))\n",
    "print(\"\\\"date_times\\\" array of times: [{0}] (absolute UTC times)\".format(np.shape(axis['date_times'])))"
   ]
  },
  {
   "cell_type": "markdown",
   "metadata": {},
   "source": [
    "### See the next notebook for a function that lets one specify specific times or channels, rather than simply loading an entire file."
   ]
  }
 ],
 "metadata": {
  "kernelspec": {
   "display_name": "Python 3.10.4 ('das')",
   "language": "python",
   "name": "python3"
  },
  "language_info": {
   "codemirror_mode": {
    "name": "ipython",
    "version": 3
   },
   "file_extension": ".py",
   "mimetype": "text/x-python",
   "name": "python",
   "nbconvert_exporter": "python",
   "pygments_lexer": "ipython3",
   "version": "3.10.4"
  },
  "orig_nbformat": 4,
  "vscode": {
   "interpreter": {
    "hash": "887ecbf868ff6fd7f584ccfbb8a8c53c9101e18000ff5c346865875055e78ad9"
   }
  }
 },
 "nbformat": 4,
 "nbformat_minor": 2
}
